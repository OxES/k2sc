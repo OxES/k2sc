{
 "cells": [
  {
   "cell_type": "markdown",
   "metadata": {},
   "source": [
    "# K2SC Lightkurve Interface\n",
    "\n",
    "Let's go through how you would use `k2sc` with its `lightkurve` interface to detrend the light curve of WASP-55. First, we import some things!"
   ]
  },
  {
   "cell_type": "code",
   "execution_count": 1,
   "metadata": {},
   "outputs": [
    {
     "name": "stdout",
     "output_type": "stream",
     "text": [
      "Populating the interactive namespace from numpy and matplotlib\n",
      "2.0.11.to_fits\n",
      "1.0.2.1\n"
     ]
    }
   ],
   "source": [
    "import numpy as np\n",
    "import matplotlib \n",
    "import matplotlib as mpl\n",
    "\n",
    "import lightkurve  as lk\n",
    "\n",
    "import k2sc\n",
    "from k2sc.standalone import k2sc_lc\n",
    "\n",
    "from astropy.io import fits\n",
    "\n",
    "%pylab inline --no-import-all\n",
    "matplotlib.rcParams['image.origin'] = 'lower'\n",
    "matplotlib.rcParams['figure.figsize']=(10.0,10.0)    #(6.0,4.0)\n",
    "matplotlib.rcParams['font.size']=16              #10 \n",
    "matplotlib.rcParams['savefig.dpi']= 300             #72 \n",
    "colours = mpl.rcParams['axes.prop_cycle'].by_key()['color']\n",
    "\n",
    "import warnings\n",
    "warnings.filterwarnings('ignore')\n",
    "\n",
    "print(lk.__version__)\n",
    "print(k2sc.__version__)"
   ]
  },
  {
   "cell_type": "markdown",
   "metadata": {},
   "source": [
    "### Reading in data.\n",
    "\n",
    "Let's search MAST for the long-cadence light curve file of WASP-55 using the `lightkurve` API, and do some very basic filtering for data quality."
   ]
  },
  {
   "cell_type": "code",
   "execution_count": 2,
   "metadata": {},
   "outputs": [],
   "source": [
    "lc = lk.search_lightcurve('EPIC 212300977')[1].download()\n",
    "lc = lc.remove_nans().normalize()\n",
    "lc = lc[lc.quality==0]"
   ]
  },
  {
   "cell_type": "markdown",
   "metadata": {},
   "source": [
    "### Let's now try K2SC!\n",
    "\n",
    "As a quick hack for now, let's just clobber the `lightkurve` object class to our `k2sc` standalone."
   ]
  },
  {
   "cell_type": "code",
   "execution_count": 3,
   "metadata": {
    "scrolled": true
   },
   "outputs": [],
   "source": [
    "lc.__class__ = k2sc_lc"
   ]
  },
  {
   "cell_type": "markdown",
   "metadata": {},
   "source": [
    "Now we run with default values!\n",
    "\n",
    "The `tqdm` progress bar will show a percentage of the maximum iterations of the differential evolution optimizer, but it will usually finish early."
   ]
  },
  {
   "cell_type": "code",
   "execution_count": null,
   "metadata": {},
   "outputs": [
    {
     "name": "stdout",
     "output_type": "stream",
     "text": [
      "Using default splits [2390, 2428] for campaign 6\n",
      "Starting initial outlier detection\n",
      "  Flagged 114 ( 3.6%) outliers.\n",
      "Starting Lomb-Scargle period search\n",
      "  Using SqrExp position kernel\n",
      "  Found periodicity p =   14.34 (fap 2.5438e-54 < 1e-50), will use a quasiperiodic kernel\n",
      "Starting global hyperparameter optimisation using DE\n"
     ]
    },
    {
     "name": "stderr",
     "output_type": "stream",
     "text": [
      " 30%|███████▊                  | 45/150 [02:19<06:29,  3.71s/it, -ln(L)=-5057.6]"
     ]
    }
   ],
   "source": [
    "lc.k2sc()"
   ]
  },
  {
   "cell_type": "markdown",
   "metadata": {},
   "source": [
    "Now we plot! See how the `k2sc` lightcurve has such better quality than the uncorrected data.\n",
    "\n",
    "Careful with `astropy` units - flux and time are dimensionful quantities in `lightkurve` 2.0, so we have to use `.value` to render them as numbers."
   ]
  },
  {
   "cell_type": "code",
   "execution_count": null,
   "metadata": {},
   "outputs": [],
   "source": [
    "fig = plt.figure(figsize=(12.0,8.0))\n",
    "plt.plot(lc.time.value,lc.flux.value,'.',label=\"Uncorrected\")\n",
    "detrended = lc.corr_flux-lc.tr_time + np.nanmedian(lc.tr_time)\n",
    "plt.plot(lc.time.value,detrended.value,'.',label=\"K2SC\")\n",
    "plt.legend()\n",
    "plt.xlabel('BJD')\n",
    "plt.ylabel('Flux')\n",
    "plt.title('WASP-55',y=1.01)"
   ]
  },
  {
   "cell_type": "markdown",
   "metadata": {},
   "source": [
    "### Now we save the data."
   ]
  },
  {
   "cell_type": "code",
   "execution_count": 6,
   "metadata": {},
   "outputs": [],
   "source": [
    "extras = {'CORR_FLUX':lc.corr_flux.value,\n",
    "          'TR_TIME':lc.tr_time.value,\n",
    "          'TR_POSITION':lc.tr_position.value}\n",
    "out = lc.to_fits(extra_data=extras,path='test.fits',overwrite=True)"
   ]
  }
 ],
 "metadata": {
  "kernelspec": {
   "display_name": "Python [conda env:lk]",
   "language": "python",
   "name": "conda-env-lk-py"
  },
  "language_info": {
   "codemirror_mode": {
    "name": "ipython",
    "version": 3
   },
   "file_extension": ".py",
   "mimetype": "text/x-python",
   "name": "python",
   "nbconvert_exporter": "python",
   "pygments_lexer": "ipython3",
   "version": "3.8.10"
  }
 },
 "nbformat": 4,
 "nbformat_minor": 2
}
