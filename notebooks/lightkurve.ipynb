{
 "cells": [
  {
   "cell_type": "code",
   "execution_count": 1,
   "metadata": {},
   "outputs": [
    {
     "name": "stdout",
     "output_type": "stream",
     "text": [
      "Populating the interactive namespace from numpy and matplotlib\n"
     ]
    }
   ],
   "source": [
    "import numpy as np\n",
    "import matplotlib \n",
    "import matplotlib as mpl\n",
    "\n",
    "import lightkurve \n",
    "from lightkurve import KeplerLightCurve, KeplerTargetPixelFile\n",
    "from k2sc.standalone import k2sc_lc\n",
    "\n",
    "%pylab inline --no-import-all\n",
    "matplotlib.rcParams['image.origin'] = 'lower'\n",
    "matplotlib.rcParams['figure.figsize']=(10.0,10.0)    #(6.0,4.0)\n",
    "matplotlib.rcParams['font.size']=16              #10 \n",
    "matplotlib.rcParams['savefig.dpi']= 300             #72 \n",
    "colours = mpl.rcParams['axes.prop_cycle'].by_key()['color']\n"
   ]
  },
  {
   "cell_type": "code",
   "execution_count": 16,
   "metadata": {},
   "outputs": [
    {
     "data": {
      "text/plain": [
       "'1.0b13'"
      ]
     },
     "execution_count": 16,
     "metadata": {},
     "output_type": "execute_result"
    }
   ],
   "source": [
    "lightkurve.__version__"
   ]
  },
  {
   "cell_type": "markdown",
   "metadata": {},
   "source": [
    "## Here we debut a lightkurve-based wrapper for k2sc so you can more easily do k2sc operations interactively."
   ]
  },
  {
   "cell_type": "code",
   "execution_count": 2,
   "metadata": {},
   "outputs": [],
   "source": [
    "tpf = KeplerTargetPixelFile.from_archive(212300977) # WASP-55"
   ]
  },
  {
   "cell_type": "code",
   "execution_count": 3,
   "metadata": {},
   "outputs": [
    {
     "data": {
      "text/plain": [
       "<matplotlib.axes._subplots.AxesSubplot at 0x106f2f8d0>"
      ]
     },
     "execution_count": 3,
     "metadata": {},
     "output_type": "execute_result"
    },
    {
     "data": {
      "image/png": "[encoded data removed]",
      "text/plain": [
       "<Figure size 432x288 with 2 Axes>"
      ]
     },
     "metadata": {},
     "output_type": "display_data"
    }
   ],
   "source": [
    "tpf.plot(frame=1,aperture_mask=tpf.pipeline_mask)"
   ]
  },
  {
   "cell_type": "code",
   "execution_count": 19,
   "metadata": {},
   "outputs": [],
   "source": [
    "lc = tpf.to_lightcurve()\n",
    "lc.primary_header = tpf.hdu[0].header\n",
    "lc.data_header = tpf.hdu[1].header\n",
    "lc.pos_corr1 = tpf.hdu[1].data['POS_CORR1'][tpf.quality_mask]\n",
    "lc.pos_corr2 = tpf.hdu[1].data['POS_CORR2'][tpf.quality_mask]"
   ]
  },
  {
   "cell_type": "code",
   "execution_count": 5,
   "metadata": {},
   "outputs": [
    {
     "data": {
      "text/plain": [
       "[<matplotlib.lines.Line2D at 0x1316e65250>]"
      ]
     },
     "execution_count": 5,
     "metadata": {},
     "output_type": "execute_result"
    },
    {
     "data": {
      "image/png": "[encoded data removed]",
      "text/plain": [
       "<Figure size 432x288 with 1 Axes>"
      ]
     },
     "metadata": {},
     "output_type": "display_data"
    }
   ],
   "source": [
    "plt.plot(lc.time, lc.flux,'.')\n"
   ]
  },
  {
   "cell_type": "code",
   "execution_count": 9,
   "metadata": {},
   "outputs": [
    {
     "data": {
      "text/plain": [
       "[<astropy.io.fits.hdu.image.PrimaryHDU object at 0x1138c6590>, <astropy.io.fits.hdu.table.BinTableHDU object at 0x106b131d0>]"
      ]
     },
     "execution_count": 9,
     "metadata": {},
     "output_type": "execute_result"
    }
   ],
   "source": [
    "lc.to_fits('test.fits')"
   ]
  },
  {
   "cell_type": "code",
   "execution_count": 10,
   "metadata": {},
   "outputs": [],
   "source": [
    "import fitsio"
   ]
  },
  {
   "cell_type": "code",
   "execution_count": 11,
   "metadata": {},
   "outputs": [],
   "source": [
    "f = fitsio.FITS('test.fits')"
   ]
  },
  {
   "cell_type": "code",
   "execution_count": 14,
   "metadata": {},
   "outputs": [],
   "source": [
    "hdr = fitsio.read_header('test.fits')"
   ]
  },
  {
   "cell_type": "code",
   "execution_count": 15,
   "metadata": {},
   "outputs": [
    {
     "data": {
      "text/plain": [
       "\n",
       "SIMPLE  =                    T / conforms to FITS standards\n",
       "BITPIX  =                    8 / array data type\n",
       "NAXIS   =                    0 / number of array dimensions\n",
       "EXTEND  =                    T / file contains extensions\n",
       "NEXTEND =                    2 / number of standard extensions\n",
       "EXTNAME = 'PRIMARY '           / name of extension\n",
       "EXTVER  =                    1 / extension version number (not format version)\n",
       "ORIGIN  = 'Unofficial data product' / institution responsible for file\n",
       "DATE    = '2018-08-23'         / file creation date.\n",
       "CREATOR = 'lightkurve'         / pipeline job and program used t\n",
       "TELESCOP= 'KEPLER  '           / telescope\n",
       "INSTRUME= 'Kepler Photometer'  / detector type\n",
       "OBJECT  = '212300977'          / string version of target id\n",
       "KEPLERID=            212300977 / unique Kepler target identifier\n",
       "CHANNEL =                   36 / CCD channel\n",
       "RADESYS = 'ICRS    '           / reference frame of celestial coordinates\n",
       "RA_OBJ  =            203.75811 / [deg] right ascension\n",
       "DEC_OBJ =            -17.50355 / [deg] declination\n",
       "EQUINOX =                 2000 / equinox of celestial coordinate system\n",
       "PROCVER = '1.0b13  '\n",
       "CAMPAIGN=                    6\n",
       "MISSION = 'K2      '\n",
       "DATE-OBS= '2015-07-13T23:07:23.227'\n",
       "CHECKSUM= 'PA66QA64PA64PA64'   / HDU checksum updated 2018-08-23T10:18:45\n",
       "DATASUM = '0       '           / data unit checksum updated 2018-08-23T10:18:45"
      ]
     },
     "execution_count": 15,
     "metadata": {},
     "output_type": "execute_result"
    }
   ],
   "source": [
    "hdr"
   ]
  },
  {
   "cell_type": "markdown",
   "metadata": {},
   "source": [
    "### Let's now try K2SC"
   ]
  },
  {
   "cell_type": "code",
   "execution_count": 21,
   "metadata": {},
   "outputs": [],
   "source": [
    "# now the magic happens\n",
    "lc.__class__ = k2sc_lc"
   ]
  },
  {
   "cell_type": "code",
   "execution_count": 22,
   "metadata": {},
   "outputs": [
    {
     "name": "stdout",
     "output_type": "stream",
     "text": [
      "Using default splits [2344] for campaign 5\n",
      "Starting initial outlier detection\n",
      "  Flagged 147 ( 0.0%) outliers.\n",
      "Starting Lomb-Scargle period search\n",
      "  Using SqrExp position kernel\n",
      "  Found periodicity p =   18.94 (fap 3.4161e-303 < 1e-50), will use a quasiperiodic kernel\n",
      "Starting global hyperparameter optimisation using DE\n",
      "('  DE iteration %3i -ln(L) %4.1f', 0, -4425.828285093708)\n",
      "('  DE iteration %3i -ln(L) %4.1f', 1, -4425.828285093708)\n",
      "('  DE iteration %3i -ln(L) %4.1f', 2, -4425.828285093708)\n",
      "('  DE iteration %3i -ln(L) %4.1f', 3, -4440.557180362137)\n",
      "('  DE iteration %3i -ln(L) %4.1f', 4, -4440.557180362137)\n",
      "('  DE iteration %3i -ln(L) %4.1f', 5, -4440.557180362137)\n",
      "('  DE iteration %3i -ln(L) %4.1f', 6, -4440.557180362137)\n",
      "('  DE iteration %3i -ln(L) %4.1f', 7, -4443.7621256508055)\n",
      "('  DE iteration %3i -ln(L) %4.1f', 8, -4443.7621256508055)\n",
      "('  DE iteration %3i -ln(L) %4.1f', 9, -4445.160390554532)\n",
      "('  DE iteration %3i -ln(L) %4.1f', 10, -4445.160390554532)\n",
      "('  DE iteration %3i -ln(L) %4.1f', 11, -4467.81536158633)\n",
      "('  DE iteration %3i -ln(L) %4.1f', 12, -4467.81536158633)\n",
      "('  DE iteration %3i -ln(L) %4.1f', 13, -4467.81536158633)\n",
      "('  DE iteration %3i -ln(L) %4.1f', 14, -4467.81536158633)\n",
      "('  DE iteration %3i -ln(L) %4.1f', 15, -4467.81536158633)\n",
      "('  DE iteration %3i -ln(L) %4.1f', 16, -4467.81536158633)\n",
      "('  DE iteration %3i -ln(L) %4.1f', 17, -4467.81536158633)\n",
      "('  DE iteration %3i -ln(L) %4.1f', 18, -4468.128113210132)\n",
      "('  DE iteration %3i -ln(L) %4.1f', 19, -4473.981734372432)\n",
      "('  DE iteration %3i -ln(L) %4.1f', 20, -4477.291193168639)\n",
      "('  DE iteration %3i -ln(L) %4.1f', 21, -4481.751086451511)\n",
      "('  DE iteration %3i -ln(L) %4.1f', 22, -4481.751086451511)\n",
      "('  DE iteration %3i -ln(L) %4.1f', 23, -4481.751086451511)\n",
      "('  DE iteration %3i -ln(L) %4.1f', 24, -4481.751086451511)\n",
      "('  DE iteration %3i -ln(L) %4.1f', 25, -4481.751086451511)\n",
      "('  DE iteration %3i -ln(L) %4.1f', 26, -4481.751086451511)\n",
      "('  DE iteration %3i -ln(L) %4.1f', 27, -4481.751086451511)\n",
      "('  DE iteration %3i -ln(L) %4.1f', 28, -4481.751086451511)\n",
      "('  DE iteration %3i -ln(L) %4.1f', 29, -4483.155301008228)\n",
      "('  DE iteration %3i -ln(L) %4.1f', 30, -4484.124362355757)\n",
      "('  DE iteration %3i -ln(L) %4.1f', 31, -4485.155819021626)\n",
      "('  DE iteration %3i -ln(L) %4.1f', 32, -4486.868208936356)\n",
      "('  DE iteration %3i -ln(L) %4.1f', 33, -4486.868208936356)\n",
      "('  DE iteration %3i -ln(L) %4.1f', 34, -4486.868208936356)\n",
      "('  DE iteration %3i -ln(L) %4.1f', 35, -4486.868208936356)\n",
      "('  DE iteration %3i -ln(L) %4.1f', 36, -4488.838389420864)\n",
      "('  DE iteration %3i -ln(L) %4.1f', 37, -4490.897621263316)\n",
      "('  DE iteration %3i -ln(L) %4.1f', 38, -4490.897621263316)\n",
      "('  DE iteration %3i -ln(L) %4.1f', 39, -4490.897621263316)\n",
      "('  DE iteration %3i -ln(L) %4.1f', 40, -4490.897621263316)\n",
      "('  DE iteration %3i -ln(L) %4.1f', 41, -4491.060042734555)\n",
      "('  DE iteration %3i -ln(L) %4.1f', 42, -4492.122356241238)\n",
      "('  DE iteration %3i -ln(L) %4.1f', 43, -4492.122356241238)\n",
      "('  DE iteration %3i -ln(L) %4.1f', 44, -4494.763819666909)\n",
      "('  DE iteration %3i -ln(L) %4.1f', 45, -4494.763819666909)\n",
      "('  DE iteration %3i -ln(L) %4.1f', 46, -4494.763819666909)\n",
      "('  DE iteration %3i -ln(L) %4.1f', 47, -4494.763819666909)\n",
      "('  DE iteration %3i -ln(L) %4.1f', 48, -4494.840160388741)\n",
      "('  DE iteration %3i -ln(L) %4.1f', 49, -4494.840160388741)\n",
      "('  DE iteration %3i -ln(L) %4.1f', 50, -4495.4335916340915)\n",
      "('  DE iteration %3i -ln(L) %4.1f', 51, -4495.4335916340915)\n",
      "('  DE iteration %3i -ln(L) %4.1f', 52, -4498.405738525526)\n",
      "('  DE iteration %3i -ln(L) %4.1f', 53, -4498.405738525526)\n",
      "('  DE iteration %3i -ln(L) %4.1f', 54, -4498.405738525526)\n",
      "('  DE iteration %3i -ln(L) %4.1f', 55, -4498.405738525526)\n",
      "('  DE iteration %3i -ln(L) %4.1f', 56, -4498.405738525526)\n",
      "('  DE iteration %3i -ln(L) %4.1f', 57, -4499.044428320828)\n",
      "('  DE iteration %3i -ln(L) %4.1f', 58, -4499.2834804641725)\n",
      "('  DE iteration %3i -ln(L) %4.1f', 59, -4499.570015206928)\n",
      "('  DE iteration %3i -ln(L) %4.1f', 60, -4499.570015206928)\n",
      "('  DE iteration %3i -ln(L) %4.1f', 61, -4499.570015206928)\n",
      "('  DE iteration %3i -ln(L) %4.1f', 62, -4501.185391170571)\n",
      "('  DE iteration %3i -ln(L) %4.1f', 63, -4501.185391170571)\n",
      "('  DE iteration %3i -ln(L) %4.1f', 64, -4501.185391170571)\n",
      "('  DE iteration %3i -ln(L) %4.1f', 65, -4501.185391170571)\n",
      "('  DE iteration %3i -ln(L) %4.1f', 66, -4501.185391170571)\n",
      "('  DE iteration %3i -ln(L) %4.1f', 67, -4501.185391170571)\n",
      "('  DE iteration %3i -ln(L) %4.1f', 68, -4501.185391170571)\n",
      "('  DE iteration %3i -ln(L) %4.1f', 69, -4501.185391170571)\n",
      "('  DE iteration %3i -ln(L) %4.1f', 70, -4501.205255478276)\n",
      "('  DE iteration %3i -ln(L) %4.1f', 71, -4501.336648368822)\n",
      "('  DE iteration %3i -ln(L) %4.1f', 72, -4501.510308258221)\n",
      "('  DE iteration %3i -ln(L) %4.1f', 73, -4501.510308258221)\n",
      "('  DE iteration %3i -ln(L) %4.1f', 74, -4501.510308258221)\n",
      "('  DE iteration %3i -ln(L) %4.1f', 75, -4501.735648362131)\n",
      "('  DE iteration %3i -ln(L) %4.1f', 76, -4502.918658856899)\n",
      "('  DE iteration %3i -ln(L) %4.1f', 77, -4502.918658856899)\n",
      "('  DE iteration %3i -ln(L) %4.1f', 78, -4502.918658856899)\n",
      "('  DE iteration %3i -ln(L) %4.1f', 79, -4502.918658856899)\n",
      "('  DE iteration %3i -ln(L) %4.1f', 80, -4504.47530752586)\n",
      "('  DE iteration %3i -ln(L) %4.1f', 81, -4504.47530752586)\n",
      "('  DE iteration %3i -ln(L) %4.1f', 82, -4504.47530752586)\n",
      "('  DE iteration %3i -ln(L) %4.1f', 83, -4504.47530752586)\n",
      "('  DE iteration %3i -ln(L) %4.1f', 84, -4504.47530752586)\n",
      "('  DE iteration %3i -ln(L) %4.1f', 85, -4504.47530752586)\n",
      "('  DE iteration %3i -ln(L) %4.1f', 86, -4504.47530752586)\n",
      "('  DE iteration %3i -ln(L) %4.1f', 87, -4504.47530752586)\n",
      "('  DE iteration %3i -ln(L) %4.1f', 88, -4504.47530752586)\n",
      "('  DE iteration %3i -ln(L) %4.1f', 89, -4505.200494144365)\n",
      "('  DE iteration %3i -ln(L) %4.1f', 90, -4505.200494144365)\n",
      "('  DE iteration %3i -ln(L) %4.1f', 91, -4505.200494144365)\n",
      "('  DE iteration %3i -ln(L) %4.1f', 92, -4505.200494144365)\n",
      "('  DE iteration %3i -ln(L) %4.1f', 93, -4507.917969620311)\n",
      "('  DE iteration %3i -ln(L) %4.1f', 94, -4508.122441639004)\n",
      "('  DE iteration %3i -ln(L) %4.1f', 95, -4508.122441639004)\n",
      "('  DE iteration %3i -ln(L) %4.1f', 96, -4508.122441639004)\n",
      "('  DE iteration %3i -ln(L) %4.1f', 97, -4508.122441639004)\n",
      "('  DE iteration %3i -ln(L) %4.1f', 98, -4508.122441639004)\n",
      "('  DE iteration %3i -ln(L) %4.1f', 99, -4508.122441639004)\n",
      "('  DE iteration %3i -ln(L) %4.1f', 100, -4508.122441639004)\n",
      "('  DE iteration %3i -ln(L) %4.1f', 101, -4508.122441639004)\n",
      "('  DE iteration %3i -ln(L) %4.1f', 102, -4508.122441639004)\n",
      "('  DE iteration %3i -ln(L) %4.1f', 103, -4508.122441639004)\n",
      "('  DE finished in %i seconds', 301.5297107696533)\n",
      "('  DE minimum found at: %s', '[-4.389e+00  9.985e-01  4.726e+00  3.476e-03 -2.350e+00  3.046e+00  1.918e+01 -3.098e+00]')\n",
      "('  DE -ln(L) %4.1f', -4508.122441639004)\n",
      "Starting local hyperparameter optimisation\n",
      "('  Local minimum found at: %s', '[-4.408e+00  9.994e-01  4.701e+00  4.698e-03 -2.293e+00  2.887e+00\\n  2.007e+01 -3.105e+00]')\n",
      "Starting final outlier detection\n",
      "('  %5i too high', 43)\n",
      "('  %5i too low', 121)\n",
      "('  %5i not finite', 0)\n",
      "Computing time and position trends\n",
      "('  CDPP - raw - %6.3f', 14538.952100223865)\n",
      "('  CDPP - position component removed - %6.3f', 367.8693336450076)\n",
      "('  CDPP - full reduction - %6.3f', 368.31939197172034)\n",
      "('Detrending time %6.3f', 312.2114460468292)\n"
     ]
    }
   ],
   "source": [
    "lc.k2sc()"
   ]
  },
  {
   "cell_type": "code",
   "execution_count": 23,
   "metadata": {},
   "outputs": [
    {
     "data": {
      "text/plain": [
       "Text(0.5,1.01,'WASP-55')"
      ]
     },
     "execution_count": 23,
     "metadata": {},
     "output_type": "execute_result"
    },
    {
     "data": {
      "image/png": "[encoded data removed]",
      "text/plain": [
       "<Figure size 432x288 with 1 Axes>"
      ]
     },
     "metadata": {},
     "output_type": "display_data"
    }
   ],
   "source": [
    "plt.plot(lc.time,lc.flux,'.',label=\"Uncorrected\")\n",
    "plt.plot(lc.time,lc.corr_flux-lc.tr_time + np.nanmedian(lc.tr_time),'.',label=\"K2SC\")\n",
    "plt.legend()\n",
    "plt.xlabel('BJD')\n",
    "plt.ylabel('Flux')\n",
    "plt.title('WASP-55',y=1.01)"
   ]
  },
  {
   "cell_type": "code",
   "execution_count": 24,
   "metadata": {},
   "outputs": [
    {
     "data": {
      "text/plain": [
       "(215000, 235000)"
      ]
     },
     "execution_count": 24,
     "metadata": {},
     "output_type": "execute_result"
    },
    {
     "data": {
      "image/png": "[encoded data removed]",
      "text/plain": [
       "<Figure size 432x288 with 1 Axes>"
      ]
     },
     "metadata": {},
     "output_type": "display_data"
    }
   ],
   "source": [
    "plt.plot(lc.time,lc.corr_flux-lc.tr_time + np.nanmedian(lc.tr_time),'.',label=\"K2SC\")\n",
    "plt.legend()\n",
    "plt.xlabel('BJD')\n",
    "plt.ylabel('Flux')\n",
    "plt.title('WASP-55',y=1.01)\n",
    "plt.ylim(215000,235000)"
   ]
  },
  {
   "cell_type": "markdown",
   "metadata": {},
   "source": [
    "### Now we save this"
   ]
  },
  {
   "cell_type": "code",
   "execution_count": 60,
   "metadata": {},
   "outputs": [
    {
     "data": {
      "text/plain": [
       "[<astropy.io.fits.hdu.image.PrimaryHDU object at 0x107009290>, <astropy.io.fits.hdu.table.BinTableHDU object at 0x11372c490>]"
      ]
     },
     "execution_count": 60,
     "metadata": {},
     "output_type": "execute_result"
    }
   ],
   "source": [
    "extras = {'CORR_FLUX':lc.corr_flux,\n",
    "          'TR_TIME':lc.tr_time,\n",
    "          'TR_POSITION':lc.tr_position}\n",
    "lc.to_fits(extra_data=extras,path='test.fits',overwrite=True)"
   ]
  },
  {
   "cell_type": "code",
   "execution_count": 61,
   "metadata": {},
   "outputs": [
    {
     "data": {
      "text/plain": [
       "\n",
       "  file: test.fits\n",
       "  extension: 1\n",
       "  type: BINARY_TBL\n",
       "  extname: LIGHTCURVE\n",
       "  rows: 3561\n",
       "  column info:\n",
       "    TIME                f8  \n",
       "    FLUX                f4  \n",
       "    FLUX_ERR            f4  \n",
       "    CADENCENO           i4  "
      ]
     },
     "execution_count": 61,
     "metadata": {},
     "output_type": "execute_result"
    }
   ],
   "source": [
    "f = fitsio.FITS('test.fits')\n",
    "f[1]"
   ]
  },
  {
   "cell_type": "code",
   "execution_count": 62,
   "metadata": {},
   "outputs": [],
   "source": [
    "hdr = fitsio.read_header('test.fits')"
   ]
  },
  {
   "cell_type": "code",
   "execution_count": 66,
   "metadata": {},
   "outputs": [
    {
     "ename": "IOError",
     "evalue": "extension not found: 2 (case insensitive)",
     "output_type": "error",
     "traceback": [
      "\u001b[0;31m---------------------------------------------------------------------------\u001b[0m",
      "\u001b[0;31mIOError\u001b[0m                                   Traceback (most recent call last)",
      "\u001b[0;32m<ipython-input-66-f75758e21c57>\u001b[0m in \u001b[0;36m<module>\u001b[0;34m()\u001b[0m\n\u001b[0;32m----> 1\u001b[0;31m \u001b[0mf\u001b[0m\u001b[0;34m[\u001b[0m\u001b[0;36m2\u001b[0m\u001b[0;34m]\u001b[0m\u001b[0;34m\u001b[0m\u001b[0m\n\u001b[0m",
      "\u001b[0;32m/anaconda2/lib/python2.7/site-packages/fitsio/fitslib.pyc\u001b[0m in \u001b[0;36m__getitem__\u001b[0;34m(self, item)\u001b[0m\n\u001b[1;32m   1067\u001b[0m             \u001b[0;32melse\u001b[0m\u001b[0;34m:\u001b[0m\u001b[0;34m\u001b[0m\u001b[0m\n\u001b[1;32m   1068\u001b[0m                 \u001b[0;32mif\u001b[0m \u001b[0mext\u001b[0m \u001b[0;32mnot\u001b[0m \u001b[0;32min\u001b[0m \u001b[0mself\u001b[0m\u001b[0;34m.\u001b[0m\u001b[0mhdu_map\u001b[0m\u001b[0;34m:\u001b[0m\u001b[0;34m\u001b[0m\u001b[0m\n\u001b[0;32m-> 1069\u001b[0;31m                     \u001b[0;32mraise\u001b[0m \u001b[0mIOError\u001b[0m\u001b[0;34m(\u001b[0m\u001b[0;34m\"extension not found: %s %s\"\u001b[0m \u001b[0;34m%\u001b[0m \u001b[0;34m(\u001b[0m\u001b[0mext\u001b[0m\u001b[0;34m,\u001b[0m\u001b[0mmess\u001b[0m\u001b[0;34m)\u001b[0m\u001b[0;34m)\u001b[0m\u001b[0;34m\u001b[0m\u001b[0m\n\u001b[0m\u001b[1;32m   1070\u001b[0m                 \u001b[0mhdu\u001b[0m \u001b[0;34m=\u001b[0m \u001b[0mself\u001b[0m\u001b[0;34m.\u001b[0m\u001b[0mhdu_map\u001b[0m\u001b[0;34m[\u001b[0m\u001b[0mext\u001b[0m\u001b[0;34m]\u001b[0m\u001b[0;34m\u001b[0m\u001b[0m\n\u001b[1;32m   1071\u001b[0m \u001b[0;34m\u001b[0m\u001b[0m\n",
      "\u001b[0;31mIOError\u001b[0m: extension not found: 2 (case insensitive)"
     ]
    }
   ],
   "source": []
  },
  {
   "cell_type": "code",
   "execution_count": null,
   "metadata": {},
   "outputs": [],
   "source": []
  }
 ],
 "metadata": {
  "kernelspec": {
   "display_name": "Python 3",
   "language": "python",
   "name": "python3"
  },
  "language_info": {
   "codemirror_mode": {
    "name": "ipython",
    "version": 3
   },
   "file_extension": ".py",
   "mimetype": "text/x-python",
   "name": "python",
   "nbconvert_exporter": "python",
   "pygments_lexer": "ipython3",
   "version": "3.7.0"
  }
 },
 "nbformat": 4,
 "nbformat_minor": 2
}
